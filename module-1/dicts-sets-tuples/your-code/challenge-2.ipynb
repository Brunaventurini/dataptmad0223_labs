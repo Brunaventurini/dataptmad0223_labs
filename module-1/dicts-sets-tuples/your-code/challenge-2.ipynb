{
 "cells": [
  {
   "cell_type": "markdown",
   "metadata": {},
   "source": [
    "## Challenge 2: Sets\n",
    "\n",
    "There are a lot to learn about Python Sets and the information presented in the lesson is limited due to its length. To learn Python Sets in depth you are strongly encouraged to review the W3Schools tutorial on [Python Sets Examples and Methods](https://www.w3schools.com/python/python_sets.asp) before you work on this lab. Some difficult questions in this lab have their solutions in the W3Schools tutorial.\n",
    "\n",
    "#### First, import the Python `random` library."
   ]
  },
  {
   "cell_type": "code",
   "execution_count": null,
   "metadata": {},
   "outputs": [],
   "source": [
    "import random"
   ]
  },
  {
   "cell_type": "markdown",
   "metadata": {},
   "source": [
    "#### In the cell below, create a list named `sample_list_1` with 80 random values. \n",
    "\n",
    "Requirements:\n",
    "\n",
    "* Each value is an integer falling between 0 and 100.\n",
    "* Each value in the list is unique.\n",
    "\n",
    "Print `sample_list_1` to review its values\n",
    "\n",
    "*Hint: use `random.sample` ([reference](https://docs.python.org/3/library/random.html#random.sample)).*"
   ]
  },
  {
   "cell_type": "code",
   "execution_count": 1,
   "metadata": {},
   "outputs": [
    {
     "name": "stdout",
     "output_type": "stream",
     "text": [
      "[72, 43, 47, 30, 32, 27, 53, 19, 63, 95, 20, 88, 46, 38, 5, 10, 15, 34, 84, 85, 64, 91, 61, 40, 57, 55, 23, 25, 7, 21, 94, 82, 67, 51, 92, 76, 24, 3, 56, 17, 52, 65, 13, 68, 35, 59, 90, 71, 1, 98, 80, 100, 33, 74, 0, 48, 49, 99, 12, 36, 69, 83, 8, 54, 50, 77, 75, 42, 11, 70, 86, 26, 18, 66, 81, 60, 44, 29, 4, 37]\n"
     ]
    }
   ],
   "source": [
    "import random\n",
    "\n",
    "# Generate a list of 80 unique random integers between 0 and 100\n",
    "sample_list_1 = random.sample(range(101), 80)\n",
    "\n",
    "# Print sample_list_1\n",
    "print(sample_list_1)"
   ]
  },
  {
   "cell_type": "markdown",
   "metadata": {},
   "source": [
    "#### Convert `sample_list_1` to a set called `set1`. Print the length of the set. Is its length still 80?"
   ]
  },
  {
   "cell_type": "code",
   "execution_count": 2,
   "metadata": {},
   "outputs": [
    {
     "name": "stdout",
     "output_type": "stream",
     "text": [
      "Length of set1: 80\n"
     ]
    }
   ],
   "source": [
    "# Convert sample_list_1 to a set\n",
    "set1 = set(sample_list_1)\n",
    "\n",
    "# Print the length of set1\n",
    "print(\"Length of set1:\", len(set1))\n"
   ]
  },
  {
   "cell_type": "markdown",
   "metadata": {},
   "source": [
    "#### Create another list named `sample_list_2` with 80 random values.\n",
    "\n",
    "Requirements:\n",
    "\n",
    "* Each value is an integer falling between 0 and 100.\n",
    "* The values in the list don't have to be unique.\n",
    "\n",
    "*Hint: Use a FOR loop.*"
   ]
  },
  {
   "cell_type": "code",
   "execution_count": 3,
   "metadata": {},
   "outputs": [
    {
     "name": "stdout",
     "output_type": "stream",
     "text": [
      "[43, 15, 1, 60, 72, 73, 5, 95, 79, 37, 50, 54, 22, 92, 21, 18, 61, 32, 9, 93, 26, 78, 62, 90, 77, 54, 58, 53, 15, 63, 25, 24, 46, 64, 5, 64, 96, 84, 99, 0, 94, 70, 38, 43, 67, 32, 68, 93, 8, 100, 35, 61, 49, 59, 83, 20, 22, 11, 52, 60, 38, 43, 57, 36, 62, 84, 31, 100, 57, 51, 91, 91, 28, 34, 25, 25, 25, 18, 32, 6]\n"
     ]
    }
   ],
   "source": [
    "import random\n",
    "\n",
    "# Generate a list of 80 random integers between 0 and 100 (with duplicates)\n",
    "sample_list_2 = [random.randint(0, 100) for _ in range(80)]\n",
    "\n",
    "# Print sample_list_2\n",
    "print(sample_list_2)"
   ]
  },
  {
   "cell_type": "markdown",
   "metadata": {},
   "source": [
    "#### Convert `sample_list_2` to a set called `set2`. Print the length of the set. Is its length still 80?"
   ]
  },
  {
   "cell_type": "code",
   "execution_count": 4,
   "metadata": {},
   "outputs": [
    {
     "name": "stdout",
     "output_type": "stream",
     "text": [
      "Length of set2: 58\n"
     ]
    }
   ],
   "source": [
    "# Convert sample_list_2 to a set\n",
    "set2 = set(sample_list_2)\n",
    "\n",
    "# Print the length of set2\n",
    "print(\"Length of set2:\", len(set2))"
   ]
  },
  {
   "cell_type": "markdown",
   "metadata": {},
   "source": [
    "#### Identify the elements present in `set1` but not in `set2`. Assign the elements to a new set named `set3`."
   ]
  },
  {
   "cell_type": "code",
   "execution_count": 5,
   "metadata": {},
   "outputs": [
    {
     "name": "stdout",
     "output_type": "stream",
     "text": [
      "Elements in set1 but not in set2 (set3): {3, 4, 7, 10, 12, 13, 17, 19, 23, 27, 29, 30, 33, 40, 42, 44, 47, 48, 55, 56, 65, 66, 69, 71, 74, 75, 76, 80, 81, 82, 85, 86, 88, 98}\n"
     ]
    }
   ],
   "source": [
    "# Find elements in set1 that are not in set2\n",
    "set3 = set1 - set2\n",
    "\n",
    "# Print set3\n",
    "print(\"Elements in set1 but not in set2 (set3):\", set3)"
   ]
  },
  {
   "cell_type": "markdown",
   "metadata": {},
   "source": [
    "#### Identify the elements present in `set2` but not in `set1`. Assign the elements to a new set named `set4`."
   ]
  },
  {
   "cell_type": "code",
   "execution_count": 6,
   "metadata": {},
   "outputs": [
    {
     "name": "stdout",
     "output_type": "stream",
     "text": [
      "Elements in set2 but not in set1 (set4): {96, 6, 9, 73, 78, 79, 22, 58, 28, 93, 62, 31}\n"
     ]
    }
   ],
   "source": [
    "# Find elements in set2 that are not in set1\n",
    "set4 = set2 - set1\n",
    "\n",
    "# Print set4\n",
    "print(\"Elements in set2 but not in set1 (set4):\", set4)"
   ]
  },
  {
   "cell_type": "markdown",
   "metadata": {},
   "source": [
    "#### Now Identify the elements shared between `set1` and `set2`. Assign the elements to a new set named `set5`."
   ]
  },
  {
   "cell_type": "code",
   "execution_count": 7,
   "metadata": {},
   "outputs": [
    {
     "name": "stdout",
     "output_type": "stream",
     "text": [
      "Elements shared between set1 and set2 (set5): {0, 1, 5, 8, 11, 15, 18, 20, 21, 24, 25, 26, 32, 34, 35, 36, 37, 38, 43, 46, 49, 50, 51, 52, 53, 54, 57, 59, 60, 61, 63, 64, 67, 68, 70, 72, 77, 83, 84, 90, 91, 92, 94, 95, 99, 100}\n"
     ]
    }
   ],
   "source": [
    "# Find elements shared between set1 and set2\n",
    "set5 = set1 & set2\n",
    "\n",
    "# Print set5\n",
    "print(\"Elements shared between set1 and set2 (set5):\", set5)"
   ]
  },
  {
   "cell_type": "markdown",
   "metadata": {},
   "source": [
    "#### What is the relationship among the following values:\n",
    "\n",
    "* len(set1)\n",
    "* len(set2)\n",
    "* len(set3)\n",
    "* len(set4)\n",
    "* len(set5)\n",
    "\n",
    "Use a math formular to represent that relationship. Test your formular with Python code."
   ]
  },
  {
   "cell_type": "code",
   "execution_count": 8,
   "metadata": {},
   "outputs": [
    {
     "name": "stdout",
     "output_type": "stream",
     "text": [
      "Is the relationship true? False\n"
     ]
    }
   ],
   "source": [
    "# Calculate the lengths of the sets\n",
    "length_set1 = len(set1)\n",
    "length_set2 = len(set2)\n",
    "length_set3 = len(set3)\n",
    "length_set4 = len(set4)\n",
    "length_set5 = len(set5)\n",
    "\n",
    "# Test the relationship\n",
    "is_relationship_true = (length_set1 + length_set2 == length_set5 + length_set3 + length_set4)\n",
    "\n",
    "# Print the result\n",
    "print(\"Is the relationship true?\", is_relationship_true)"
   ]
  },
  {
   "cell_type": "markdown",
   "metadata": {},
   "source": [
    "#### Create an empty set called `set6`."
   ]
  },
  {
   "cell_type": "code",
   "execution_count": 10,
   "metadata": {},
   "outputs": [],
   "source": [
    "set6 = set()"
   ]
  },
  {
   "cell_type": "markdown",
   "metadata": {},
   "source": [
    "#### Add `set3` and `set5` to `set6` using the Python Set `update` method."
   ]
  },
  {
   "cell_type": "code",
   "execution_count": 11,
   "metadata": {},
   "outputs": [],
   "source": [
    "# Add elements from set3 and set5 to set6\n",
    "set6.update(set3)\n",
    "set6.update(set5)"
   ]
  },
  {
   "cell_type": "markdown",
   "metadata": {},
   "source": [
    "#### Check if `set1` and `set6` are equal."
   ]
  },
  {
   "cell_type": "code",
   "execution_count": 12,
   "metadata": {},
   "outputs": [
    {
     "name": "stdout",
     "output_type": "stream",
     "text": [
      "Are set1 and set6 equal? True\n"
     ]
    }
   ],
   "source": [
    "# Your code here\n",
    "# Check if set1 and set6 are equal\n",
    "are_equal = set1 == set6\n",
    "\n",
    "# Print the result\n",
    "print(\"Are set1 and set6 equal?\", are_equal)"
   ]
  },
  {
   "cell_type": "markdown",
   "metadata": {},
   "source": [
    "#### Check if `set1` contains `set2` using the Python Set `issubset` method. Then check if `set1` contains `set3`.*"
   ]
  },
  {
   "cell_type": "code",
   "execution_count": 13,
   "metadata": {},
   "outputs": [
    {
     "name": "stdout",
     "output_type": "stream",
     "text": [
      "Is set2 a subset of set1? False\n",
      "Is set3 a subset of set1? True\n"
     ]
    }
   ],
   "source": [
    "# Your code here\n",
    "# Check if set2 is a subset of set1\n",
    "is_set2_subset = set2.issubset(set1)\n",
    "\n",
    "# Check if set3 is a subset of set1\n",
    "is_set3_subset = set3.issubset(set1)\n",
    "\n",
    "# Print the results\n",
    "print(\"Is set2 a subset of set1?\", is_set2_subset)\n",
    "print(\"Is set3 a subset of set1?\", is_set3_subset)"
   ]
  },
  {
   "cell_type": "markdown",
   "metadata": {},
   "source": [
    "#### Using the Python Set `union` method, aggregate `set3`, `set4`, and `set5`. Then aggregate `set1` and `set2`. \n",
    "\n",
    "#### Check if the aggregated values are equal."
   ]
  },
  {
   "cell_type": "code",
   "execution_count": 14,
   "metadata": {},
   "outputs": [
    {
     "name": "stdout",
     "output_type": "stream",
     "text": [
      "Are the aggregated values equal? True\n"
     ]
    }
   ],
   "source": [
    "# Aggregate set3, set4, and set5 using the union method\n",
    "aggregated_set_a = set3.union(set4, set5)\n",
    "\n",
    "# Aggregate set1 and set2 using the union method\n",
    "aggregated_set_b = set1.union(set2)\n",
    "\n",
    "# Check if the aggregated values are equal\n",
    "are_aggregated_sets_equal = aggregated_set_a == aggregated_set_b\n",
    "\n",
    "# Print the result\n",
    "print(\"Are the aggregated values equal?\", are_aggregated_sets_equal)"
   ]
  },
  {
   "cell_type": "markdown",
   "metadata": {},
   "source": [
    "#### Using the `pop` method, remove the first element from `set1`."
   ]
  },
  {
   "cell_type": "code",
   "execution_count": 15,
   "metadata": {},
   "outputs": [
    {
     "name": "stdout",
     "output_type": "stream",
     "text": [
      "Removed element: 0\n"
     ]
    }
   ],
   "source": [
    "# Remove an arbitrary element from set1 using pop()\n",
    "if len(set1) > 0:\n",
    "    removed_element = set1.pop()\n",
    "    print(\"Removed element:\", removed_element)\n",
    "else:\n",
    "    print(\"Set1 is empty, cannot remove an element.\")"
   ]
  },
  {
   "cell_type": "markdown",
   "metadata": {},
   "source": [
    "#### Remove every element in the following list from `set1` if they are present in the set. Print the remaining elements.\n",
    "\n",
    "```\n",
    "list_to_remove = [1, 9, 11, 19, 21, 29, 31, 39, 41, 49, 51, 59, 61, 69, 71, 79, 81, 89, 91, 99]\n",
    "```"
   ]
  },
  {
   "cell_type": "code",
   "execution_count": 16,
   "metadata": {},
   "outputs": [
    {
     "name": "stdout",
     "output_type": "stream",
     "text": [
      "Remaining elements in set1: {3, 4, 5, 7, 8, 10, 12, 13, 15, 17, 18, 20, 23, 24, 25, 26, 27, 30, 32, 33, 34, 35, 36, 37, 38, 40, 42, 43, 44, 46, 47, 48, 50, 52, 53, 54, 55, 56, 57, 60, 63, 64, 65, 66, 67, 68, 70, 72, 74, 75, 76, 77, 80, 82, 83, 84, 85, 86, 88, 90, 92, 94, 95, 98, 100}\n"
     ]
    }
   ],
   "source": [
    "list_to_remove = [1, 9, 11, 19, 21, 29, 31, 39, 41, 49, 51, 59, 61, 69, 71, 79, 81, 89, 91, 99]\n",
    "\n",
    "# Remove elements from set1 that are in list_to_remove\n",
    "set1 = {x for x in set1 if x not in list_to_remove}\n",
    "\n",
    "# Print the remaining elements in set1\n",
    "print(\"Remaining elements in set1:\", set1)"
   ]
  },
  {
   "cell_type": "code",
   "execution_count": null,
   "metadata": {},
   "outputs": [],
   "source": []
  }
 ],
 "metadata": {
  "kernelspec": {
   "display_name": "Python 3 (ipykernel)",
   "language": "python",
   "name": "python3"
  },
  "language_info": {
   "codemirror_mode": {
    "name": "ipython",
    "version": 3
   },
   "file_extension": ".py",
   "mimetype": "text/x-python",
   "name": "python",
   "nbconvert_exporter": "python",
   "pygments_lexer": "ipython3",
   "version": "3.9.16"
  }
 },
 "nbformat": 4,
 "nbformat_minor": 2
}
